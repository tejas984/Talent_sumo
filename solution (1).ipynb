{
 "cells": [
  {
   "cell_type": "markdown",
   "id": "455b2a51",
   "metadata": {},
   "source": [
    "User Registration"
   ]
  },
  {
   "cell_type": "code",
   "execution_count": 1,
   "id": "15ebdf9d",
   "metadata": {},
   "outputs": [
    {
     "data": {
      "text/plain": [
       "{'username': 'john_doe', 'password': 'password123'}"
      ]
     },
     "execution_count": 1,
     "metadata": {},
     "output_type": "execute_result"
    }
   ],
   "source": [
    "{\n",
    "  \"username\": \"john_doe\",\n",
    "  \"password\": \"password123\"\n",
    "}"
   ]
  },
  {
   "cell_type": "markdown",
   "id": "749d5919",
   "metadata": {},
   "source": [
    "Response:"
   ]
  },
  {
   "cell_type": "code",
   "execution_count": 2,
   "id": "c98a39c1",
   "metadata": {},
   "outputs": [
    {
     "data": {
      "text/plain": [
       "{'message': 'User registered successfully'}"
      ]
     },
     "execution_count": 2,
     "metadata": {},
     "output_type": "execute_result"
    }
   ],
   "source": [
    "{\n",
    "  \"message\": \"User registered successfully\"\n",
    "}"
   ]
  },
  {
   "cell_type": "markdown",
   "id": "99d08865",
   "metadata": {},
   "source": [
    "User Login"
   ]
  },
  {
   "cell_type": "code",
   "execution_count": 3,
   "id": "148933d5",
   "metadata": {},
   "outputs": [
    {
     "data": {
      "text/plain": [
       "{'username': 'tejas_raut ', 'password': 'password123'}"
      ]
     },
     "execution_count": 3,
     "metadata": {},
     "output_type": "execute_result"
    }
   ],
   "source": [
    "{\n",
    "  \"username\": \"tejas_raut \",\n",
    "  \"password\": \"password123\"\n",
    "}"
   ]
  },
  {
   "cell_type": "markdown",
   "id": "2cd9e742",
   "metadata": {},
   "source": [
    "Response"
   ]
  },
  {
   "cell_type": "code",
   "execution_count": 4,
   "id": "e39e3ba4",
   "metadata": {},
   "outputs": [
    {
     "data": {
      "text/plain": [
       "{'access_token': 'eyJhbGciOiJIUzI1NiIsInR5cCI6IkpXVCJ9...',\n",
       " 'token_type': 'Bearer'}"
      ]
     },
     "execution_count": 4,
     "metadata": {},
     "output_type": "execute_result"
    }
   ],
   "source": [
    "{\n",
    "  \"access_token\": \"eyJhbGciOiJIUzI1NiIsInR5cCI6IkpXVCJ9...\",\n",
    "  \"token_type\": \"Bearer\"\n",
    "}"
   ]
  },
  {
   "cell_type": "markdown",
   "id": "ac96fa17",
   "metadata": {},
   "source": [
    "Create a Note"
   ]
  },
  {
   "cell_type": "code",
   "execution_count": 5,
   "id": "31dac7fd",
   "metadata": {},
   "outputs": [
    {
     "data": {
      "text/plain": [
       "{'title': 'Meeting Notes', 'content': 'content is quite good.', 'type': 'text'}"
      ]
     },
     "execution_count": 5,
     "metadata": {},
     "output_type": "execute_result"
    }
   ],
   "source": [
    "{\n",
    "  \"title\": \"Meeting Notes\",\n",
    "  \"content\": \"content is quite good.\",\n",
    "  \"type\": \"text\"\n",
    "}"
   ]
  },
  {
   "cell_type": "markdown",
   "id": "16fff519",
   "metadata": {},
   "source": [
    "Response\n"
   ]
  },
  {
   "cell_type": "code",
   "execution_count": 6,
   "id": "e850fc76",
   "metadata": {},
   "outputs": [
    {
     "data": {
      "text/plain": [
       "{'id': 1,\n",
       " 'title': 'Meeting Notes',\n",
       " 'content': 'content is quite good.',\n",
       " 'type': 'text',\n",
       " 'created_at': '2023-06-15T12:00:00Z',\n",
       " 'updated_at': '2023-06-15T12:00:00Z'}"
      ]
     },
     "execution_count": 6,
     "metadata": {},
     "output_type": "execute_result"
    }
   ],
   "source": [
    "{\n",
    "  \"id\": 1,\n",
    "  \"title\": \"Meeting Notes\",\n",
    "  \"content\": \"content is quite good.\",\n",
    "  \"type\": \"text\",\n",
    "  \"created_at\": \"2023-06-15T12:00:00Z\",\n",
    "  \"updated_at\": \"2023-06-15T12:00:00Z\"\n",
    "}"
   ]
  },
  {
   "cell_type": "markdown",
   "id": "01f215fc",
   "metadata": {},
   "source": [
    "Get a Note"
   ]
  },
  {
   "cell_type": "code",
   "execution_count": 7,
   "id": "64d3dc47",
   "metadata": {},
   "outputs": [
    {
     "data": {
      "text/plain": [
       "{'id': 1,\n",
       " 'title': 'Meeting Notes',\n",
       " 'content': 'content is quite good.',\n",
       " 'type': 'text',\n",
       " 'created_at': '2023-06-15T12:00:00Z',\n",
       " 'updated_at': '2023-06-15T12:00:00Z'}"
      ]
     },
     "execution_count": 7,
     "metadata": {},
     "output_type": "execute_result"
    }
   ],
   "source": [
    "{\n",
    "  \"id\": 1,\n",
    "  \"title\": \"Meeting Notes\",\n",
    "  \"content\": \"content is quite good.\",\n",
    "  \"type\": \"text\",\n",
    "  \"created_at\": \"2023-06-15T12:00:00Z\",\n",
    "  \"updated_at\": \"2023-06-15T12:00:00Z\"\n",
    "}"
   ]
  },
  {
   "cell_type": "markdown",
   "id": "73c6a94e",
   "metadata": {},
   "source": [
    "Update a Note"
   ]
  },
  {
   "cell_type": "code",
   "execution_count": 8,
   "id": "a1206964",
   "metadata": {},
   "outputs": [
    {
     "data": {
      "text/plain": [
       "{'title': 'Updated Meeting Notes', 'content': 'New content'}"
      ]
     },
     "execution_count": 8,
     "metadata": {},
     "output_type": "execute_result"
    }
   ],
   "source": [
    "{\n",
    "  \"title\": \"Updated Meeting Notes\",\n",
    "  \"content\": \"New content\"\n",
    "}"
   ]
  },
  {
   "cell_type": "markdown",
   "id": "c7974ce0",
   "metadata": {},
   "source": [
    "Response"
   ]
  },
  {
   "cell_type": "code",
   "execution_count": 9,
   "id": "f150f208",
   "metadata": {},
   "outputs": [
    {
     "data": {
      "text/plain": [
       "{'id': 1,\n",
       " 'title': 'Updated Meeting Notes',\n",
       " 'content': 'New content',\n",
       " 'type': 'text',\n",
       " 'created_at': '2023-06-15T12:00:00Z',\n",
       " 'updated_at': '2023-06-15T12:01:00Z'}"
      ]
     },
     "execution_count": 9,
     "metadata": {},
     "output_type": "execute_result"
    }
   ],
   "source": [
    "{\n",
    "  \"id\": 1,\n",
    "  \"title\": \"Updated Meeting Notes\",\n",
    "  \"content\": \"New content\",\n",
    "  \"type\": \"text\",\n",
    "  \"created_at\": \"2023-06-15T12:00:00Z\",\n",
    "  \"updated_at\": \"2023-06-15T12:01:00Z\"\n",
    "}"
   ]
  },
  {
   "cell_type": "markdown",
   "id": "a254342c",
   "metadata": {},
   "source": [
    "Delete a Note"
   ]
  },
  {
   "cell_type": "code",
   "execution_count": 10,
   "id": "6be984c8",
   "metadata": {},
   "outputs": [
    {
     "data": {
      "text/plain": [
       "{'message': 'Note deleted successfully'}"
      ]
     },
     "execution_count": 10,
     "metadata": {},
     "output_type": "execute_result"
    }
   ],
   "source": [
    "{\n",
    "  \"message\": \"Note deleted successfully\"\n",
    "}"
   ]
  },
  {
   "cell_type": "markdown",
   "id": "e0aca69d",
   "metadata": {},
   "source": [
    "Share a Note"
   ]
  },
  {
   "cell_type": "code",
   "execution_count": 11,
   "id": "4091facb",
   "metadata": {},
   "outputs": [
    {
     "data": {
      "text/plain": [
       "{'username': 'aditya_raut'}"
      ]
     },
     "execution_count": 11,
     "metadata": {},
     "output_type": "execute_result"
    }
   ],
   "source": [
    "{\n",
    "  \"username\": \"aditya_raut\"\n",
    "}"
   ]
  },
  {
   "cell_type": "markdown",
   "id": "b64dc970",
   "metadata": {},
   "source": [
    "Response"
   ]
  },
  {
   "cell_type": "code",
   "execution_count": 12,
   "id": "c99920b0",
   "metadata": {},
   "outputs": [
    {
     "data": {
      "text/plain": [
       "{'message': 'Note shared with aditya_raut'}"
      ]
     },
     "execution_count": 12,
     "metadata": {},
     "output_type": "execute_result"
    }
   ],
   "source": [
    "{\n",
    "  \"message\": \"Note shared with aditya_raut\"\n",
    "}"
   ]
  },
  {
   "cell_type": "code",
   "execution_count": null,
   "id": "e0b3b064",
   "metadata": {},
   "outputs": [],
   "source": []
  }
 ],
 "metadata": {
  "kernelspec": {
   "display_name": "Python 3 (ipykernel)",
   "language": "python",
   "name": "python3"
  },
  "language_info": {
   "codemirror_mode": {
    "name": "ipython",
    "version": 3
   },
   "file_extension": ".py",
   "mimetype": "text/x-python",
   "name": "python",
   "nbconvert_exporter": "python",
   "pygments_lexer": "ipython3",
   "version": "3.10.7"
  }
 },
 "nbformat": 4,
 "nbformat_minor": 5
}
